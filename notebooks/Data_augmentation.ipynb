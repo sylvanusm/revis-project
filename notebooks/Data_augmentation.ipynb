{
 "cells": [
  {
   "cell_type": "markdown",
   "metadata": {},
   "source": [
    "# **Data extration and Generation** "
   ]
  },
  {
   "cell_type": "markdown",
   "metadata": {},
   "source": [
    "In this notebook we extract and perform data augmentation to increase our dataset  \n",
    "To run the code you need to download the data zip file and place it /inputs/"
   ]
  },
  {
   "cell_type": "code",
   "execution_count": null,
   "metadata": {},
   "outputs": [],
   "source": [
    "! unzip ../inputs/bird_dataset.zip -d ../inputs/"
   ]
  },
  {
   "cell_type": "code",
   "execution_count": null,
   "metadata": {},
   "outputs": [],
   "source": [
    "data_dir = '../inputs/'\n",
    "class_folders = glob.glob(os.path.join(data_dir, 'bird_dataset/train_images/*'))"
   ]
  },
  {
   "cell_type": "code",
   "execution_count": null,
   "metadata": {},
   "outputs": [],
   "source": [
    "from keras.preprocessing.image import ImageDataGenerator\n",
    "from keras.preprocessing.image import img_to_array, load_img\n",
    "\n",
    "def add_noise(img):\n",
    "    '''Add random noise to an image'''\n",
    "    VARIABILITY = 50\n",
    "    deviation = VARIABILITY*random.random()\n",
    "    noise = np.random.normal(0, deviation, img.shape)\n",
    "    img += noise\n",
    "    np.clip(img, 0., 255.)\n",
    "    return img\n",
    "\n",
    "def generate_imgs(img_dir, dest):\n",
    "    for img_path in glob.glob(os.path.join(img_dir, '*')):\n",
    "        img = load_img(img_path)\n",
    "        img = img_to_array(img)\n",
    "        img = np.expand_dims(img, axis=0)\n",
    "\n",
    "        aug = ImageDataGenerator(rotation_range=45,\n",
    "                                zoom_range=0.15,\n",
    "                                width_shift_range=0.2,\n",
    "                                height_shift_range=0.2,\n",
    "                                brightness_range=(0.7, 1),\n",
    "                                fill_mode=\"nearest\",\n",
    "                                preprocessing_function=add_noise,\n",
    "                                horizontal_flip=True)\n",
    "        aug.fit(img)\n",
    "        img_gen = aug.flow(img,\n",
    "                           batch_size = 1,\n",
    "                           save_to_dir = dest,\n",
    "                           save_prefix = 'aug',\n",
    "                           save_format = 'jpg')\n",
    "        #saving\n",
    "        cond = 0\n",
    "        for image in img_gen:\n",
    "            cond += 1\n",
    "            if cond == 2:\n",
    "                break\n",
    "\n",
    "    return\n",
    "\n",
    "os.mkdir(os.path.join(data_dir, \"bird_dataset_2/\")\n",
    "data_gen_dir = os.path.join(data_dir, \"bird_dataset_2/\")\n",
    "for class_folder in class_folders:\n",
    "    name = class_folder.split('/')[-1]\n",
    "    os.mkdir(os.path.join(data_gen_dir, name))\n",
    "    img_dir = os.path.join(class_folder)\n",
    "    dest = os.path.join(data_gen_dir, name)\n",
    "    # print(dest)\n",
    "    generate_imgs(img_dir, dest)"
   ]
  },
  {
   "cell_type": "code",
   "execution_count": null,
   "metadata": {},
   "outputs": [],
   "source": [
    "from shutil import copyfile\n",
    "src = glob.glob(os.path.join(data_dir, \"bird_dataset_2/*\"))\n",
    "for class_folder, src_folder in zip(class_folders, src):\n",
    "#     print(class_folder, dest)\n",
    "    ! cp {os.path.join(src_folder, '*')} {class_folder}"
   ]
  },
  {
   "cell_type": "code",
   "execution_count": null,
   "metadata": {},
   "outputs": [],
   "source": []
  }
 ],
 "metadata": {
  "kernelspec": {
   "display_name": "Python 3",
   "language": "python",
   "name": "python3"
  },
  "language_info": {
   "codemirror_mode": {
    "name": "ipython",
    "version": 3
   },
   "file_extension": ".py",
   "mimetype": "text/x-python",
   "name": "python",
   "nbconvert_exporter": "python",
   "pygments_lexer": "ipython3",
   "version": "3.7.6"
  }
 },
 "nbformat": 4,
 "nbformat_minor": 4
}
